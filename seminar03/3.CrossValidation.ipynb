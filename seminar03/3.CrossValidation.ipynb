{
 "cells": [
  {
   "cell_type": "markdown",
   "metadata": {},
   "source": [
    "# Кросс валидация"
   ]
  },
  {
   "cell_type": "markdown",
   "metadata": {},
   "source": [
    "Используется для того чтобы выбрать модель из некоторого множества вариантов\n",
    "Есть несколько методов\n",
    "\n",
    "**Тестирование на отложенной выборке** - Разбиваем данные на группы заранее. Как правило нужно применять если данных много и модель учится долго\n",
    "\n",
    "**K-fold** - разбиваем на фолды, на одном тестим на остальных обучаемся и так K раз\n",
    "\n",
    "**Leave One Out** - экстремальный K-Fold когда оставляем один объект на тест"
   ]
  },
  {
   "cell_type": "markdown",
   "metadata": {},
   "source": [
    "### Подготовим данные"
   ]
  },
  {
   "cell_type": "code",
   "execution_count": 1,
   "metadata": {
    "ExecuteTime": {
     "end_time": "2019-10-12T11:08:55.187814Z",
     "start_time": "2019-10-12T11:08:54.049687Z"
    }
   },
   "outputs": [
    {
     "name": "stderr",
     "output_type": "stream",
     "text": [
      "/Users/tylorn/envs/dmia2019/lib/python3.6/site-packages/lightgbm/__init__.py:48: UserWarning: Starting from version 2.2.1, the library file in distribution wheels for macOS is built by the Apple Clang (Xcode_8.3.3) compiler.\n",
      "This means that in case of installing LightGBM from PyPI via the ``pip install lightgbm`` command, you don't need to install the gcc compiler anymore.\n",
      "Instead of that, you need to install the OpenMP library, which is required for running LightGBM on the system with the Apple Clang compiler.\n",
      "You can install the OpenMP library by the following command: ``brew install libomp``.\n",
      "  \"You can install the OpenMP library by the following command: ``brew install libomp``.\", UserWarning)\n"
     ]
    }
   ],
   "source": [
    "import numpy as np\n",
    "import pandas as pd\n",
    "from geo import *\n",
    "import lightgbm\n",
    "from sklearn import model_selection"
   ]
  },
  {
   "cell_type": "code",
   "execution_count": 2,
   "metadata": {
    "ExecuteTime": {
     "end_time": "2019-10-12T11:08:55.193193Z",
     "start_time": "2019-10-12T11:08:55.189834Z"
    }
   },
   "outputs": [],
   "source": [
    "def mean_absolute_percentage_error(y_true, y_pred): \n",
    "    y_true, y_pred = np.array(y_true), np.array(y_pred)\n",
    "    return np.mean(np.abs((y_true - y_pred) / y_true)) * 100"
   ]
  },
  {
   "cell_type": "code",
   "execution_count": 3,
   "metadata": {
    "ExecuteTime": {
     "end_time": "2019-10-12T11:08:57.345751Z",
     "start_time": "2019-10-12T11:08:56.192441Z"
    }
   },
   "outputs": [],
   "source": [
    "df = pd.read_csv(\"data/ny_taxi_fare_1m.csv\").drop(['Unnamed: 0'], axis=1)"
   ]
  },
  {
   "cell_type": "code",
   "execution_count": 4,
   "metadata": {
    "ExecuteTime": {
     "end_time": "2019-10-12T11:08:57.369784Z",
     "start_time": "2019-10-12T11:08:57.347805Z"
    }
   },
   "outputs": [
    {
     "data": {
      "text/html": [
       "<div>\n",
       "<style scoped>\n",
       "    .dataframe tbody tr th:only-of-type {\n",
       "        vertical-align: middle;\n",
       "    }\n",
       "\n",
       "    .dataframe tbody tr th {\n",
       "        vertical-align: top;\n",
       "    }\n",
       "\n",
       "    .dataframe thead th {\n",
       "        text-align: right;\n",
       "    }\n",
       "</style>\n",
       "<table border=\"1\" class=\"dataframe\">\n",
       "  <thead>\n",
       "    <tr style=\"text-align: right;\">\n",
       "      <th></th>\n",
       "      <th>fare_amount</th>\n",
       "      <th>pickup_datetime</th>\n",
       "      <th>pickup_longitude</th>\n",
       "      <th>pickup_latitude</th>\n",
       "      <th>dropoff_longitude</th>\n",
       "      <th>dropoff_latitude</th>\n",
       "      <th>passenger_count</th>\n",
       "    </tr>\n",
       "  </thead>\n",
       "  <tbody>\n",
       "    <tr>\n",
       "      <td>0</td>\n",
       "      <td>18.0</td>\n",
       "      <td>2015-02-23 15:59:15 UTC</td>\n",
       "      <td>-73.980843</td>\n",
       "      <td>40.747425</td>\n",
       "      <td>-74.004707</td>\n",
       "      <td>40.708378</td>\n",
       "      <td>1</td>\n",
       "    </tr>\n",
       "    <tr>\n",
       "      <td>1</td>\n",
       "      <td>18.9</td>\n",
       "      <td>2009-07-14 09:22:00 UTC</td>\n",
       "      <td>-73.979997</td>\n",
       "      <td>40.762613</td>\n",
       "      <td>-74.010148</td>\n",
       "      <td>40.703322</td>\n",
       "      <td>1</td>\n",
       "    </tr>\n",
       "    <tr>\n",
       "      <td>2</td>\n",
       "      <td>52.0</td>\n",
       "      <td>2015-04-09 20:03:00 UTC</td>\n",
       "      <td>-73.989105</td>\n",
       "      <td>40.746273</td>\n",
       "      <td>-73.990692</td>\n",
       "      <td>40.746906</td>\n",
       "      <td>1</td>\n",
       "    </tr>\n",
       "    <tr>\n",
       "      <td>3</td>\n",
       "      <td>11.5</td>\n",
       "      <td>2013-07-04 01:26:00 UTC</td>\n",
       "      <td>-74.006647</td>\n",
       "      <td>40.743880</td>\n",
       "      <td>-73.989765</td>\n",
       "      <td>40.720782</td>\n",
       "      <td>5</td>\n",
       "    </tr>\n",
       "    <tr>\n",
       "      <td>4</td>\n",
       "      <td>8.9</td>\n",
       "      <td>2010-08-06 19:15:39 UTC</td>\n",
       "      <td>-73.988505</td>\n",
       "      <td>40.748976</td>\n",
       "      <td>-73.974706</td>\n",
       "      <td>40.736039</td>\n",
       "      <td>1</td>\n",
       "    </tr>\n",
       "  </tbody>\n",
       "</table>\n",
       "</div>"
      ],
      "text/plain": [
       "   fare_amount          pickup_datetime  pickup_longitude  pickup_latitude  \\\n",
       "0         18.0  2015-02-23 15:59:15 UTC        -73.980843        40.747425   \n",
       "1         18.9  2009-07-14 09:22:00 UTC        -73.979997        40.762613   \n",
       "2         52.0  2015-04-09 20:03:00 UTC        -73.989105        40.746273   \n",
       "3         11.5  2013-07-04 01:26:00 UTC        -74.006647        40.743880   \n",
       "4          8.9  2010-08-06 19:15:39 UTC        -73.988505        40.748976   \n",
       "\n",
       "   dropoff_longitude  dropoff_latitude  passenger_count  \n",
       "0         -74.004707         40.708378                1  \n",
       "1         -74.010148         40.703322                1  \n",
       "2         -73.990692         40.746906                1  \n",
       "3         -73.989765         40.720782                5  \n",
       "4         -73.974706         40.736039                1  "
      ]
     },
     "execution_count": 4,
     "metadata": {},
     "output_type": "execute_result"
    }
   ],
   "source": [
    "df.head()"
   ]
  },
  {
   "cell_type": "code",
   "execution_count": 5,
   "metadata": {
    "ExecuteTime": {
     "end_time": "2019-10-12T11:11:05.151551Z",
     "start_time": "2019-10-12T11:08:57.371967Z"
    }
   },
   "outputs": [],
   "source": [
    "df['pickup_datetime'] = df.pickup_datetime.astype(\"datetime64\")"
   ]
  },
  {
   "cell_type": "markdown",
   "metadata": {},
   "source": [
    "Признак длина поездки должно быть очень информативен"
   ]
  },
  {
   "cell_type": "code",
   "execution_count": 6,
   "metadata": {
    "ExecuteTime": {
     "end_time": "2019-10-12T11:11:05.235679Z",
     "start_time": "2019-10-12T11:11:05.153352Z"
    }
   },
   "outputs": [],
   "source": [
    "df['dist'] = earth_distance(df.pickup_longitude, df.pickup_latitude, df.dropoff_longitude, df.dropoff_latitude)"
   ]
  },
  {
   "cell_type": "markdown",
   "metadata": {},
   "source": [
    "Время и дата тоже могут влиять"
   ]
  },
  {
   "cell_type": "code",
   "execution_count": 7,
   "metadata": {
    "ExecuteTime": {
     "end_time": "2019-10-12T11:11:05.288642Z",
     "start_time": "2019-10-12T11:11:05.237851Z"
    }
   },
   "outputs": [],
   "source": [
    "df['month'] = df.pickup_datetime.dt.month"
   ]
  },
  {
   "cell_type": "code",
   "execution_count": 8,
   "metadata": {
    "ExecuteTime": {
     "end_time": "2019-10-12T11:11:05.332947Z",
     "start_time": "2019-10-12T11:11:05.290069Z"
    }
   },
   "outputs": [],
   "source": [
    "df['hour'] = df.pickup_datetime.dt.hour"
   ]
  },
  {
   "cell_type": "markdown",
   "metadata": {},
   "source": [
    "Самую малось почитим данные"
   ]
  },
  {
   "cell_type": "code",
   "execution_count": 9,
   "metadata": {
    "ExecuteTime": {
     "end_time": "2019-10-12T11:11:05.470232Z",
     "start_time": "2019-10-12T11:11:05.334351Z"
    }
   },
   "outputs": [],
   "source": [
    "df = df[(df.fare_amount != 0) & (df.dist > 500) & (df.dist < 100000)]"
   ]
  },
  {
   "cell_type": "code",
   "execution_count": 10,
   "metadata": {
    "ExecuteTime": {
     "end_time": "2019-10-12T11:11:05.796334Z",
     "start_time": "2019-10-12T11:11:05.471795Z"
    }
   },
   "outputs": [
    {
     "data": {
      "text/plain": [
       "<matplotlib.axes._subplots.AxesSubplot at 0x132c85278>"
      ]
     },
     "execution_count": 10,
     "metadata": {},
     "output_type": "execute_result"
    }
   ],
   "source": [
    "df.dist.plot(kind='hist')"
   ]
  },
  {
   "cell_type": "code",
   "execution_count": 11,
   "metadata": {
    "ExecuteTime": {
     "end_time": "2019-10-12T11:11:05.803343Z",
     "start_time": "2019-10-12T11:11:05.800538Z"
    }
   },
   "outputs": [],
   "source": [
    "def extract_data(extr_df):\n",
    "    X = extr_df.drop(['fare_amount', 'pickup_datetime'], axis=1).values\n",
    "    y = extr_df.fare_amount.values\n",
    "    return X, y"
   ]
  },
  {
   "cell_type": "code",
   "execution_count": 12,
   "metadata": {
    "ExecuteTime": {
     "end_time": "2019-10-12T11:11:05.862333Z",
     "start_time": "2019-10-12T11:11:05.805769Z"
    }
   },
   "outputs": [],
   "source": [
    "X, y = extract_data(df)"
   ]
  },
  {
   "cell_type": "markdown",
   "metadata": {},
   "source": [
    "Попробуем что-нибудь обучить "
   ]
  },
  {
   "cell_type": "markdown",
   "metadata": {},
   "source": [
    "## Тестирование на отложенной выборке"
   ]
  },
  {
   "cell_type": "code",
   "execution_count": 13,
   "metadata": {
    "ExecuteTime": {
     "end_time": "2019-10-12T11:11:05.996191Z",
     "start_time": "2019-10-12T11:11:05.864300Z"
    }
   },
   "outputs": [],
   "source": [
    "X_train, X_test, y_train, y_test = model_selection.train_test_split(X, y, test_size=0.33, random_state=2019)"
   ]
  },
  {
   "cell_type": "code",
   "execution_count": 14,
   "metadata": {
    "ExecuteTime": {
     "end_time": "2019-10-12T11:11:06.022068Z",
     "start_time": "2019-10-12T11:11:05.997882Z"
    }
   },
   "outputs": [
    {
     "name": "stdout",
     "output_type": "stream",
     "text": [
      "MAPE: 41.37727646918887\n"
     ]
    }
   ],
   "source": [
    "y_pred = np.ones_like(y_test) * np.median(y_train)\n",
    "print(\"MAPE:\", mean_absolute_percentage_error(y_test, y_pred))"
   ]
  },
  {
   "cell_type": "code",
   "execution_count": 15,
   "metadata": {
    "ExecuteTime": {
     "end_time": "2019-10-12T11:11:06.026467Z",
     "start_time": "2019-10-12T11:11:06.023750Z"
    }
   },
   "outputs": [],
   "source": [
    "regr = lightgbm.LGBMRegressor(objective='mape')"
   ]
  },
  {
   "cell_type": "code",
   "execution_count": 16,
   "metadata": {
    "ExecuteTime": {
     "end_time": "2019-10-12T11:11:21.088354Z",
     "start_time": "2019-10-12T11:11:06.028202Z"
    }
   },
   "outputs": [
    {
     "data": {
      "text/plain": [
       "LGBMRegressor(boosting_type='gbdt', class_weight=None, colsample_bytree=1.0,\n",
       "              importance_type='split', learning_rate=0.1, max_depth=-1,\n",
       "              min_child_samples=20, min_child_weight=0.001, min_split_gain=0.0,\n",
       "              n_estimators=100, n_jobs=-1, num_leaves=31, objective='mape',\n",
       "              random_state=None, reg_alpha=0.0, reg_lambda=0.0, silent=True,\n",
       "              subsample=1.0, subsample_for_bin=200000, subsample_freq=0)"
      ]
     },
     "execution_count": 16,
     "metadata": {},
     "output_type": "execute_result"
    }
   ],
   "source": [
    "regr.fit(X_train, y_train)"
   ]
  },
  {
   "cell_type": "code",
   "execution_count": 17,
   "metadata": {
    "ExecuteTime": {
     "end_time": "2019-10-12T11:11:21.426520Z",
     "start_time": "2019-10-12T11:11:21.090263Z"
    }
   },
   "outputs": [
    {
     "name": "stdout",
     "output_type": "stream",
     "text": [
      "MAPE: 16.41881508655729\n"
     ]
    }
   ],
   "source": [
    "y_pred = regr.predict(X_test)\n",
    "print(\"MAPE:\", mean_absolute_percentage_error(y_test, y_pred))"
   ]
  },
  {
   "cell_type": "markdown",
   "metadata": {},
   "source": [
    "## K-fold"
   ]
  },
  {
   "cell_type": "code",
   "execution_count": 18,
   "metadata": {
    "ExecuteTime": {
     "end_time": "2019-10-12T11:11:21.431226Z",
     "start_time": "2019-10-12T11:11:21.428365Z"
    }
   },
   "outputs": [],
   "source": [
    "kfold = model_selection.KFold(n_splits=3, shuffle=True, random_state=2019)"
   ]
  },
  {
   "cell_type": "code",
   "execution_count": 19,
   "metadata": {
    "ExecuteTime": {
     "end_time": "2019-10-12T11:12:12.284638Z",
     "start_time": "2019-10-12T11:11:21.433120Z"
    }
   },
   "outputs": [],
   "source": [
    "y_pred = []\n",
    "for train_index, test_index in kfold.split(X):\n",
    "    X_train, X_test = X[train_index], X[test_index]\n",
    "    y_train, y_test = y[train_index], y[test_index]\n",
    "    regr = lightgbm.LGBMRegressor(objective='mape')\n",
    "    regr.fit(X_train, y_train)\n",
    "    y_pred.extend(regr.predict(X_test))\n",
    "y_pred = np.array(y_pred)"
   ]
  },
  {
   "cell_type": "code",
   "execution_count": 20,
   "metadata": {
    "ExecuteTime": {
     "end_time": "2019-10-12T11:12:12.603768Z",
     "start_time": "2019-10-12T11:12:12.286357Z"
    }
   },
   "outputs": [
    {
     "name": "stdout",
     "output_type": "stream",
     "text": [
      "MAPE: 18.416892476020035\n"
     ]
    }
   ],
   "source": [
    "y_pred = regr.predict(X_test)\n",
    "print(\"MAPE:\", mean_absolute_percentage_error(y_test, y_pred))"
   ]
  },
  {
   "cell_type": "markdown",
   "metadata": {},
   "source": [
    "## Есть сомнения?"
   ]
  },
  {
   "cell_type": "code",
   "execution_count": 21,
   "metadata": {
    "ExecuteTime": {
     "end_time": "2019-10-12T11:12:12.609933Z",
     "start_time": "2019-10-12T11:12:12.605876Z"
    }
   },
   "outputs": [],
   "source": [
    "def df_time_hist(time_s):\n",
    "    return time_s.groupby([df[\"pickup_datetime\"].dt.year, df[\"pickup_datetime\"].dt.month]).count().plot(figsize=(20, 8), kind=\"bar\")"
   ]
  },
  {
   "cell_type": "code",
   "execution_count": 22,
   "metadata": {
    "ExecuteTime": {
     "end_time": "2019-10-12T11:12:13.987784Z",
     "start_time": "2019-10-12T11:12:12.611842Z"
    }
   },
   "outputs": [
    {
     "data": {
      "text/plain": [
       "<matplotlib.axes._subplots.AxesSubplot at 0x10ec004a8>"
      ]
     },
     "execution_count": 22,
     "metadata": {},
     "output_type": "execute_result"
    },
    {
     "data": {
      "image/png": "[encoded data removed]",
      "text/plain": [
       "<Figure size 1440x576 with 1 Axes>"
      ]
     },
     "metadata": {
      "needs_background": "light"
     },
     "output_type": "display_data"
    }
   ],
   "source": [
    "df_time_hist(df.pickup_datetime)"
   ]
  },
  {
   "cell_type": "markdown",
   "metadata": {},
   "source": [
    "Посмотрим на среднюю цену за каждый год"
   ]
  },
  {
   "cell_type": "code",
   "execution_count": 23,
   "metadata": {
    "ExecuteTime": {
     "end_time": "2019-10-12T11:12:14.048588Z",
     "start_time": "2019-10-12T11:12:13.989244Z"
    }
   },
   "outputs": [
    {
     "data": {
      "text/html": [
       "<div>\n",
       "<style scoped>\n",
       "    .dataframe tbody tr th:only-of-type {\n",
       "        vertical-align: middle;\n",
       "    }\n",
       "\n",
       "    .dataframe tbody tr th {\n",
       "        vertical-align: top;\n",
       "    }\n",
       "\n",
       "    .dataframe thead th {\n",
       "        text-align: right;\n",
       "    }\n",
       "</style>\n",
       "<table border=\"1\" class=\"dataframe\">\n",
       "  <thead>\n",
       "    <tr style=\"text-align: right;\">\n",
       "      <th></th>\n",
       "      <th>fare_amount</th>\n",
       "    </tr>\n",
       "    <tr>\n",
       "      <th>pickup_datetime</th>\n",
       "      <th></th>\n",
       "    </tr>\n",
       "  </thead>\n",
       "  <tbody>\n",
       "    <tr>\n",
       "      <td>2009</td>\n",
       "      <td>10.164359</td>\n",
       "    </tr>\n",
       "    <tr>\n",
       "      <td>2010</td>\n",
       "      <td>10.251178</td>\n",
       "    </tr>\n",
       "    <tr>\n",
       "      <td>2011</td>\n",
       "      <td>10.514173</td>\n",
       "    </tr>\n",
       "    <tr>\n",
       "      <td>2012</td>\n",
       "      <td>11.325546</td>\n",
       "    </tr>\n",
       "    <tr>\n",
       "      <td>2013</td>\n",
       "      <td>12.752329</td>\n",
       "    </tr>\n",
       "    <tr>\n",
       "      <td>2014</td>\n",
       "      <td>13.026675</td>\n",
       "    </tr>\n",
       "    <tr>\n",
       "      <td>2015</td>\n",
       "      <td>13.118228</td>\n",
       "    </tr>\n",
       "  </tbody>\n",
       "</table>\n",
       "</div>"
      ],
      "text/plain": [
       "                 fare_amount\n",
       "pickup_datetime             \n",
       "2009               10.164359\n",
       "2010               10.251178\n",
       "2011               10.514173\n",
       "2012               11.325546\n",
       "2013               12.752329\n",
       "2014               13.026675\n",
       "2015               13.118228"
      ]
     },
     "execution_count": 23,
     "metadata": {},
     "output_type": "execute_result"
    }
   ],
   "source": [
    "df.groupby(df.pickup_datetime.dt.year)[['fare_amount']].mean()"
   ]
  },
  {
   "cell_type": "markdown",
   "metadata": {},
   "source": [
    "Видим что цена растет. Это значит что качество полученное на валидации не честное, тк реальные данные будут отличаться от текущих."
   ]
  },
  {
   "cell_type": "markdown",
   "metadata": {},
   "source": [
    "## Разобьем выборку по времени"
   ]
  },
  {
   "cell_type": "code",
   "execution_count": 24,
   "metadata": {
    "ExecuteTime": {
     "end_time": "2019-10-12T11:12:14.090897Z",
     "start_time": "2019-10-12T11:12:14.049943Z"
    }
   },
   "outputs": [],
   "source": [
    "train_ind = df.pickup_datetime.dt.year < 2014\n",
    "test_ind = ~train_ind"
   ]
  },
  {
   "cell_type": "code",
   "execution_count": 25,
   "metadata": {
    "ExecuteTime": {
     "end_time": "2019-10-12T11:12:14.241579Z",
     "start_time": "2019-10-12T11:12:14.092143Z"
    }
   },
   "outputs": [],
   "source": [
    "X_train, y_train = extract_data(df[train_ind])\n",
    "X_test, y_test = extract_data(df[test_ind])"
   ]
  },
  {
   "cell_type": "code",
   "execution_count": 26,
   "metadata": {
    "ExecuteTime": {
     "end_time": "2019-10-12T11:12:14.247223Z",
     "start_time": "2019-10-12T11:12:14.243222Z"
    }
   },
   "outputs": [
    {
     "data": {
      "text/plain": [
       "((731249, 8), (207242, 8))"
      ]
     },
     "execution_count": 26,
     "metadata": {},
     "output_type": "execute_result"
    }
   ],
   "source": [
    "X_train.shape, X_test.shape"
   ]
  },
  {
   "cell_type": "code",
   "execution_count": 27,
   "metadata": {
    "ExecuteTime": {
     "end_time": "2019-10-12T11:12:32.279297Z",
     "start_time": "2019-10-12T11:12:14.250379Z"
    }
   },
   "outputs": [
    {
     "data": {
      "text/plain": [
       "LGBMRegressor(boosting_type='gbdt', class_weight=None, colsample_bytree=1.0,\n",
       "              importance_type='split', learning_rate=0.1, max_depth=-1,\n",
       "              min_child_samples=20, min_child_weight=0.001, min_split_gain=0.0,\n",
       "              n_estimators=100, n_jobs=-1, num_leaves=31, objective='mape',\n",
       "              random_state=None, reg_alpha=0.0, reg_lambda=0.0, silent=True,\n",
       "              subsample=1.0, subsample_for_bin=200000, subsample_freq=0)"
      ]
     },
     "execution_count": 27,
     "metadata": {},
     "output_type": "execute_result"
    }
   ],
   "source": [
    "regr = lightgbm.LGBMRegressor(objective='mape')\n",
    "regr.fit(X_train, y_train)"
   ]
  },
  {
   "cell_type": "code",
   "execution_count": 28,
   "metadata": {
    "ExecuteTime": {
     "end_time": "2019-10-12T11:12:32.531751Z",
     "start_time": "2019-10-12T11:12:32.281953Z"
    }
   },
   "outputs": [
    {
     "name": "stdout",
     "output_type": "stream",
     "text": [
      "MAPE: 22.217394487430568\n"
     ]
    }
   ],
   "source": [
    "y_pred = regr.predict(X_test)\n",
    "print(\"MAPE:\", mean_absolute_percentage_error(y_test, y_pred))"
   ]
  },
  {
   "cell_type": "markdown",
   "metadata": {},
   "source": [
    "Качество ухудшилось. Хотя метод все тот же.\n",
    "\n",
    "Но теперь мы больше ему доверяем.\n",
    "\n",
    "**Если имеем дело с временными данными, безопаснее разбивать по времени, если нет оснований делать по другому.**"
   ]
  },
  {
   "cell_type": "code",
   "execution_count": null,
   "metadata": {},
   "outputs": [],
   "source": []
  }
 ],
 "metadata": {
  "kernelspec": {
   "display_name": "dmia2019",
   "language": "python",
   "name": "dmia2019"
  },
  "language_info": {
   "codemirror_mode": {
    "name": "ipython",
    "version": 3
   },
   "file_extension": ".py",
   "mimetype": "text/x-python",
   "name": "python",
   "nbconvert_exporter": "python",
   "pygments_lexer": "ipython3",
   "version": "3.6.6"
  }
 },
 "nbformat": 4,
 "nbformat_minor": 2
}
