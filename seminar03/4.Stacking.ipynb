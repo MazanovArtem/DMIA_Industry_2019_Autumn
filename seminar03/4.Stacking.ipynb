{
 "cells": [
  {
   "cell_type": "markdown",
   "metadata": {},
   "source": [
    "# Стекинг"
   ]
  },
  {
   "cell_type": "markdown",
   "metadata": {},
   "source": [
    "Еще один способ строить композиции алгоритмов\n",
    "Очень классная и понятная статья про стекинг от Александра Дьяконова [в его блоге](https://dyakonov.org/2017/03/10/cтекинг-stacking-и-блендинг-blending/)"
   ]
  },
  {
   "cell_type": "markdown",
   "metadata": {},
   "source": [
    "**Бэггинг** - обучаем композицию алгоритмов на подвыборках, ответы усредняем\n",
    "\n",
    "**Стекинг** - обучаем композицию алгоритмов, их ответы считаем новыми фичами - обучаем мета-алгоритм"
   ]
  },
  {
   "cell_type": "markdown",
   "metadata": {},
   "source": [
    "## Блендинг\n",
    "Простейший пример Стекинга это **Блендинг** обучение делится на 2 части: на одной обучаются базовые алгоритмы, на другой мета-алгоритм\n",
    "\n",
    "Эта схема плоха тем, что надо делить обучени на части"
   ]
  },
  {
   "cell_type": "markdown",
   "metadata": {},
   "source": [
    "![](images/blending.png)"
   ]
  },
  {
   "cell_type": "markdown",
   "metadata": {},
   "source": [
    "## Stacking\n",
    "**Классический стекинг** решает эту проблему делением на фолды, и получением значений метапризнаков на каждый фолд.\n",
    "Для доп регуляризации добавляют шум в метапризнаки"
   ]
  },
  {
   "cell_type": "markdown",
   "metadata": {},
   "source": [
    "![](images/stacking.png)"
   ]
  },
  {
   "cell_type": "code",
   "execution_count": 1,
   "metadata": {
    "ExecuteTime": {
     "end_time": "2019-10-12T11:09:38.139985Z",
     "start_time": "2019-10-12T11:09:36.969962Z"
    }
   },
   "outputs": [
    {
     "name": "stderr",
     "output_type": "stream",
     "text": [
      "/Users/tylorn/envs/dmia2019/lib/python3.6/site-packages/lightgbm/__init__.py:48: UserWarning: Starting from version 2.2.1, the library file in distribution wheels for macOS is built by the Apple Clang (Xcode_8.3.3) compiler.\n",
      "This means that in case of installing LightGBM from PyPI via the ``pip install lightgbm`` command, you don't need to install the gcc compiler anymore.\n",
      "Instead of that, you need to install the OpenMP library, which is required for running LightGBM on the system with the Apple Clang compiler.\n",
      "You can install the OpenMP library by the following command: ``brew install libomp``.\n",
      "  \"You can install the OpenMP library by the following command: ``brew install libomp``.\", UserWarning)\n"
     ]
    }
   ],
   "source": [
    "import numpy as np\n",
    "import pandas as pd\n",
    "\n",
    "from matplotlib import pyplot\n",
    "\n",
    "from sklearn.base import BaseEstimator, ClassifierMixin\n",
    "from sklearn.model_selection import train_test_split, cross_val_predict, cross_val_score\n",
    "from sklearn.metrics import make_scorer, roc_auc_score, accuracy_score\n",
    "roc_auc_scorer = make_scorer(roc_auc_score)\n",
    "accuracy_scorer = make_scorer(accuracy_score)\n",
    "from sklearn.ensemble import RandomForestRegressor, RandomForestClassifier\n",
    "from sklearn.linear_model import Ridge, LogisticRegression\n",
    "from sklearn.tree import DecisionTreeClassifier, DecisionTreeRegressor\n",
    "from sklearn.neighbors import KNeighborsRegressor, KNeighborsClassifier\n",
    "\n",
    "from xgboost import XGBClassifier\n",
    "from catboost import CatBoostClassifier\n",
    "from lightgbm import LGBMClassifier, LGBMRegressor\n",
    "%matplotlib inline"
   ]
  },
  {
   "cell_type": "code",
   "execution_count": 2,
   "metadata": {
    "ExecuteTime": {
     "end_time": "2019-10-12T11:09:38.152767Z",
     "start_time": "2019-10-12T11:09:38.141490Z"
    }
   },
   "outputs": [],
   "source": [
    "data = pd.read_csv('data/HR.csv')"
   ]
  },
  {
   "cell_type": "code",
   "execution_count": 3,
   "metadata": {
    "ExecuteTime": {
     "end_time": "2019-10-12T11:09:38.346542Z",
     "start_time": "2019-10-12T11:09:38.333474Z"
    }
   },
   "outputs": [
    {
     "data": {
      "text/html": [
       "<div>\n",
       "<style scoped>\n",
       "    .dataframe tbody tr th:only-of-type {\n",
       "        vertical-align: middle;\n",
       "    }\n",
       "\n",
       "    .dataframe tbody tr th {\n",
       "        vertical-align: top;\n",
       "    }\n",
       "\n",
       "    .dataframe thead th {\n",
       "        text-align: right;\n",
       "    }\n",
       "</style>\n",
       "<table border=\"1\" class=\"dataframe\">\n",
       "  <thead>\n",
       "    <tr style=\"text-align: right;\">\n",
       "      <th></th>\n",
       "      <th>last_evaluation</th>\n",
       "      <th>number_project</th>\n",
       "      <th>average_montly_hours</th>\n",
       "      <th>time_spend_company</th>\n",
       "      <th>Work_accident</th>\n",
       "      <th>left</th>\n",
       "      <th>promotion_last_5years</th>\n",
       "    </tr>\n",
       "  </thead>\n",
       "  <tbody>\n",
       "    <tr>\n",
       "      <td>0</td>\n",
       "      <td>0.53</td>\n",
       "      <td>2</td>\n",
       "      <td>157</td>\n",
       "      <td>3</td>\n",
       "      <td>0</td>\n",
       "      <td>1</td>\n",
       "      <td>0</td>\n",
       "    </tr>\n",
       "    <tr>\n",
       "      <td>1</td>\n",
       "      <td>0.86</td>\n",
       "      <td>5</td>\n",
       "      <td>262</td>\n",
       "      <td>6</td>\n",
       "      <td>0</td>\n",
       "      <td>0</td>\n",
       "      <td>0</td>\n",
       "    </tr>\n",
       "    <tr>\n",
       "      <td>2</td>\n",
       "      <td>0.88</td>\n",
       "      <td>7</td>\n",
       "      <td>272</td>\n",
       "      <td>4</td>\n",
       "      <td>0</td>\n",
       "      <td>1</td>\n",
       "      <td>0</td>\n",
       "    </tr>\n",
       "    <tr>\n",
       "      <td>3</td>\n",
       "      <td>0.87</td>\n",
       "      <td>5</td>\n",
       "      <td>223</td>\n",
       "      <td>5</td>\n",
       "      <td>0</td>\n",
       "      <td>1</td>\n",
       "      <td>0</td>\n",
       "    </tr>\n",
       "    <tr>\n",
       "      <td>4</td>\n",
       "      <td>0.52</td>\n",
       "      <td>2</td>\n",
       "      <td>159</td>\n",
       "      <td>3</td>\n",
       "      <td>0</td>\n",
       "      <td>1</td>\n",
       "      <td>0</td>\n",
       "    </tr>\n",
       "  </tbody>\n",
       "</table>\n",
       "</div>"
      ],
      "text/plain": [
       "   last_evaluation  number_project  average_montly_hours  time_spend_company  \\\n",
       "0             0.53               2                   157                   3   \n",
       "1             0.86               5                   262                   6   \n",
       "2             0.88               7                   272                   4   \n",
       "3             0.87               5                   223                   5   \n",
       "4             0.52               2                   159                   3   \n",
       "\n",
       "   Work_accident  left  promotion_last_5years  \n",
       "0              0     1                      0  \n",
       "1              0     0                      0  \n",
       "2              0     1                      0  \n",
       "3              0     1                      0  \n",
       "4              0     1                      0  "
      ]
     },
     "execution_count": 3,
     "metadata": {},
     "output_type": "execute_result"
    }
   ],
   "source": [
    "data.head()"
   ]
  },
  {
   "cell_type": "code",
   "execution_count": 4,
   "metadata": {
    "ExecuteTime": {
     "end_time": "2019-10-12T11:09:38.944535Z",
     "start_time": "2019-10-12T11:09:38.939943Z"
    }
   },
   "outputs": [],
   "source": [
    "X, y = data.drop('left', axis=1).values, data['left'].values"
   ]
  },
  {
   "cell_type": "code",
   "execution_count": 5,
   "metadata": {
    "ExecuteTime": {
     "end_time": "2019-10-12T11:09:39.506294Z",
     "start_time": "2019-10-12T11:09:39.495910Z"
    }
   },
   "outputs": [],
   "source": [
    "class StackingModel(BaseEstimator, ClassifierMixin):\n",
    "    def __init__(self, models, meta_model, meta_train_p=0.25, stacking_cv=3, stacking_noise=0.001, random_state=2019):\n",
    "        self.models = models\n",
    "        self.meta_model = meta_model\n",
    "        self.meta_train_p = meta_train_p\n",
    "        self.stacking_cv = stacking_cv\n",
    "        self.stacking_noise = stacking_noise\n",
    "        self.random_state = random_state\n",
    "        if meta_train_p:\n",
    "            self.fit = self._fit_blending\n",
    "        else:\n",
    "            self.fit = self._fit_stacking\n",
    "        \n",
    "    def _fit_blending(self, X, y):\n",
    "        X_train, X_valid, y_train, y_valid = train_test_split(\n",
    "            X, y, test_size=self.meta_train_p, random_state=self.random_state)\n",
    "            \n",
    "        X_meta = np.empty((X_valid.shape[0], len(self.models)))\n",
    "        for t, clf in enumerate(self.models):\n",
    "            clf.fit(X_train, y_train)\n",
    "            X_meta[:, t] = clf.predict(X_valid)\n",
    "\n",
    "        self.meta_model.fit(X_meta, y_valid)\n",
    "        return self\n",
    "    \n",
    "    def _fit_stacking(self, X, y):\n",
    "        X_meta = self.stacking_noise * np.random.randn(X.shape[0], len(self.models))\n",
    "\n",
    "        for t, clf in enumerate(self.models):\n",
    "            X_meta[:, t] += cross_val_predict(clf, X, y, cv=self.stacking_cv, method='predict')\n",
    "            clf.fit(X, y)\n",
    "        self.meta_model.fit(X_meta, y)  \n",
    "        return self\n",
    "    \n",
    "    def _X_meta(self, X):\n",
    "        X_meta = np.empty((X.shape[0], len(self.models)))\n",
    "        \n",
    "        for t, clf in enumerate(self.models):\n",
    "            X_meta[:, t] = clf.predict(X)\n",
    "        return X_meta\n",
    "        \n",
    "    def predict(self, X):\n",
    "        return self.meta_model.predict(self._X_meta(X))\n",
    "    \n",
    "    def predict_proba(self, X):\n",
    "        return self.meta_model.predict_proba(self._X_meta(X))"
   ]
  },
  {
   "cell_type": "code",
   "execution_count": 6,
   "metadata": {
    "ExecuteTime": {
     "end_time": "2019-10-12T11:09:40.667647Z",
     "start_time": "2019-10-12T11:09:40.663879Z"
    }
   },
   "outputs": [],
   "source": [
    "def compare_to_df(models, scorer):\n",
    "    names = []\n",
    "    scores = []\n",
    "    for name, regr in models:\n",
    "        score = cross_val_score(regr, X, y, cv=5, scoring=scorer).mean()\n",
    "        # print(f\"ROC AUC of {name} : {score}\")\n",
    "        names.append(name)\n",
    "        scores.append(score)\n",
    "    return pd.DataFrame.from_dict({\"clf\": names, \"roc_auc\": scores}).set_index('clf')"
   ]
  },
  {
   "cell_type": "markdown",
   "metadata": {},
   "source": [
    "### На регрессии"
   ]
  },
  {
   "cell_type": "code",
   "execution_count": 7,
   "metadata": {
    "ExecuteTime": {
     "end_time": "2019-10-12T11:09:41.703291Z",
     "start_time": "2019-10-12T11:09:41.699176Z"
    }
   },
   "outputs": [],
   "source": [
    "base_models = [\n",
    "    (\"rf_5_clf\", RandomForestRegressor(n_estimators=5)),\n",
    "    (\"rf_10_clf\", RandomForestRegressor(n_estimators=10)),\n",
    "    (\"knn_5_clf\", KNeighborsRegressor(n_neighbors=5)),\n",
    "    (\"knn_10_clf\", KNeighborsRegressor(n_neighbors=10)),\n",
    "    (\"lightgbm_clf\", LGBMRegressor()),\n",
    "]\n",
    "st_base_models = [clf for name, clf in base_models]\n",
    "models = base_models + [\n",
    "    (\"blending\", StackingModel(st_base_models, Ridge())),\n",
    "    (\"stacking\", StackingModel(st_base_models, Ridge(), meta_train_p=0))\n",
    "]"
   ]
  },
  {
   "cell_type": "code",
   "execution_count": 8,
   "metadata": {
    "ExecuteTime": {
     "end_time": "2019-10-12T11:10:05.845733Z",
     "start_time": "2019-10-12T11:09:42.359620Z"
    }
   },
   "outputs": [
    {
     "data": {
      "text/html": [
       "<div>\n",
       "<style scoped>\n",
       "    .dataframe tbody tr th:only-of-type {\n",
       "        vertical-align: middle;\n",
       "    }\n",
       "\n",
       "    .dataframe tbody tr th {\n",
       "        vertical-align: top;\n",
       "    }\n",
       "\n",
       "    .dataframe thead th {\n",
       "        text-align: right;\n",
       "    }\n",
       "</style>\n",
       "<table border=\"1\" class=\"dataframe\">\n",
       "  <thead>\n",
       "    <tr style=\"text-align: right;\">\n",
       "      <th></th>\n",
       "      <th>roc_auc</th>\n",
       "    </tr>\n",
       "    <tr>\n",
       "      <th>clf</th>\n",
       "      <th></th>\n",
       "    </tr>\n",
       "  </thead>\n",
       "  <tbody>\n",
       "    <tr>\n",
       "      <td>rf_5_clf</td>\n",
       "      <td>0.591289</td>\n",
       "    </tr>\n",
       "    <tr>\n",
       "      <td>rf_10_clf</td>\n",
       "      <td>0.595860</td>\n",
       "    </tr>\n",
       "    <tr>\n",
       "      <td>knn_5_clf</td>\n",
       "      <td>0.614714</td>\n",
       "    </tr>\n",
       "    <tr>\n",
       "      <td>knn_10_clf</td>\n",
       "      <td>0.619862</td>\n",
       "    </tr>\n",
       "    <tr>\n",
       "      <td>lightgbm_clf</td>\n",
       "      <td>0.619807</td>\n",
       "    </tr>\n",
       "    <tr>\n",
       "      <td>blending</td>\n",
       "      <td>0.734154</td>\n",
       "    </tr>\n",
       "    <tr>\n",
       "      <td>stacking</td>\n",
       "      <td>0.733780</td>\n",
       "    </tr>\n",
       "  </tbody>\n",
       "</table>\n",
       "</div>"
      ],
      "text/plain": [
       "               roc_auc\n",
       "clf                   \n",
       "rf_5_clf      0.591289\n",
       "rf_10_clf     0.595860\n",
       "knn_5_clf     0.614714\n",
       "knn_10_clf    0.619862\n",
       "lightgbm_clf  0.619807\n",
       "blending      0.734154\n",
       "stacking      0.733780"
      ]
     },
     "execution_count": 8,
     "metadata": {},
     "output_type": "execute_result"
    }
   ],
   "source": [
    "scores = compare_to_df(models, scorer=roc_auc_scorer)\n",
    "scores"
   ]
  },
  {
   "cell_type": "code",
   "execution_count": 9,
   "metadata": {
    "ExecuteTime": {
     "end_time": "2019-10-12T11:10:06.385990Z",
     "start_time": "2019-10-12T11:10:05.848000Z"
    }
   },
   "outputs": [
    {
     "data": {
      "text/plain": [
       "<matplotlib.axes._subplots.AxesSubplot at 0x12e745ba8>"
      ]
     },
     "execution_count": 9,
     "metadata": {},
     "output_type": "execute_result"
    },
    {
     "data": {
      "image/png": "[encoded data removed]",
      "text/plain": [
       "<Figure size 1440x864 with 1 Axes>"
      ]
     },
     "metadata": {
      "needs_background": "light"
     },
     "output_type": "display_data"
    }
   ],
   "source": [
    "scores.plot(kind='bar', figsize=(20, 12))"
   ]
  },
  {
   "cell_type": "markdown",
   "metadata": {},
   "source": [
    "### На классификации"
   ]
  },
  {
   "cell_type": "code",
   "execution_count": 10,
   "metadata": {
    "ExecuteTime": {
     "end_time": "2019-10-12T11:10:06.391865Z",
     "start_time": "2019-10-12T11:10:06.387924Z"
    }
   },
   "outputs": [],
   "source": [
    "base_models = [\n",
    "    (\"rf_5_clf\", RandomForestClassifier(n_estimators=5)),\n",
    "    (\"rf_10_clf\", RandomForestClassifier(n_estimators=10)),\n",
    "    (\"knn_5_clf\", KNeighborsClassifier(n_neighbors=5)),\n",
    "    (\"knn_10_clf\", KNeighborsClassifier(n_neighbors=10)),\n",
    "    (\"lightgbm_clf\", LGBMClassifier()),\n",
    "]\n",
    "st_base_models = [clf for name, clf in base_models]\n",
    "models = base_models + [\n",
    "    (\"blending\", StackingModel(st_base_models, Ridge())),\n",
    "    (\"stacking\", StackingModel(st_base_models, Ridge(), meta_train_p=0))\n",
    "]"
   ]
  },
  {
   "cell_type": "code",
   "execution_count": 11,
   "metadata": {
    "ExecuteTime": {
     "end_time": "2019-10-12T11:10:38.285813Z",
     "start_time": "2019-10-12T11:10:06.393430Z"
    }
   },
   "outputs": [
    {
     "data": {
      "text/html": [
       "<div>\n",
       "<style scoped>\n",
       "    .dataframe tbody tr th:only-of-type {\n",
       "        vertical-align: middle;\n",
       "    }\n",
       "\n",
       "    .dataframe tbody tr th {\n",
       "        vertical-align: top;\n",
       "    }\n",
       "\n",
       "    .dataframe thead th {\n",
       "        text-align: right;\n",
       "    }\n",
       "</style>\n",
       "<table border=\"1\" class=\"dataframe\">\n",
       "  <thead>\n",
       "    <tr style=\"text-align: right;\">\n",
       "      <th></th>\n",
       "      <th>roc_auc</th>\n",
       "    </tr>\n",
       "    <tr>\n",
       "      <th>clf</th>\n",
       "      <th></th>\n",
       "    </tr>\n",
       "  </thead>\n",
       "  <tbody>\n",
       "    <tr>\n",
       "      <td>rf_5_clf</td>\n",
       "      <td>0.665411</td>\n",
       "    </tr>\n",
       "    <tr>\n",
       "      <td>rf_10_clf</td>\n",
       "      <td>0.674445</td>\n",
       "    </tr>\n",
       "    <tr>\n",
       "      <td>knn_5_clf</td>\n",
       "      <td>0.692818</td>\n",
       "    </tr>\n",
       "    <tr>\n",
       "      <td>knn_10_clf</td>\n",
       "      <td>0.706228</td>\n",
       "    </tr>\n",
       "    <tr>\n",
       "      <td>lightgbm_clf</td>\n",
       "      <td>0.717860</td>\n",
       "    </tr>\n",
       "    <tr>\n",
       "      <td>blending</td>\n",
       "      <td>0.731987</td>\n",
       "    </tr>\n",
       "    <tr>\n",
       "      <td>stacking</td>\n",
       "      <td>0.724012</td>\n",
       "    </tr>\n",
       "  </tbody>\n",
       "</table>\n",
       "</div>"
      ],
      "text/plain": [
       "               roc_auc\n",
       "clf                   \n",
       "rf_5_clf      0.665411\n",
       "rf_10_clf     0.674445\n",
       "knn_5_clf     0.692818\n",
       "knn_10_clf    0.706228\n",
       "lightgbm_clf  0.717860\n",
       "blending      0.731987\n",
       "stacking      0.724012"
      ]
     },
     "execution_count": 11,
     "metadata": {},
     "output_type": "execute_result"
    }
   ],
   "source": [
    "scores = compare_to_df(models, scorer=roc_auc_scorer)\n",
    "scores"
   ]
  },
  {
   "cell_type": "code",
   "execution_count": 12,
   "metadata": {
    "ExecuteTime": {
     "end_time": "2019-10-12T11:10:38.834934Z",
     "start_time": "2019-10-12T11:10:38.288012Z"
    }
   },
   "outputs": [
    {
     "data": {
      "text/plain": [
       "<matplotlib.axes._subplots.AxesSubplot at 0x134964780>"
      ]
     },
     "execution_count": 12,
     "metadata": {},
     "output_type": "execute_result"
    },
    {
     "data": {
      "image/png": "[encoded data removed]",
      "text/plain": [
       "<Figure size 1440x864 with 1 Axes>"
      ]
     },
     "metadata": {
      "needs_background": "light"
     },
     "output_type": "display_data"
    }
   ],
   "source": [
    "scores.plot(kind='bar', figsize=(20, 12))"
   ]
  },
  {
   "cell_type": "code",
   "execution_count": null,
   "metadata": {},
   "outputs": [],
   "source": []
  },
  {
   "cell_type": "code",
   "execution_count": null,
   "metadata": {},
   "outputs": [],
   "source": []
  },
  {
   "cell_type": "code",
   "execution_count": null,
   "metadata": {},
   "outputs": [],
   "source": []
  },
  {
   "cell_type": "code",
   "execution_count": null,
   "metadata": {},
   "outputs": [],
   "source": []
  },
  {
   "cell_type": "code",
   "execution_count": null,
   "metadata": {},
   "outputs": [],
   "source": []
  },
  {
   "cell_type": "code",
   "execution_count": null,
   "metadata": {},
   "outputs": [],
   "source": []
  },
  {
   "cell_type": "code",
   "execution_count": null,
   "metadata": {},
   "outputs": [],
   "source": []
  },
  {
   "cell_type": "code",
   "execution_count": null,
   "metadata": {},
   "outputs": [],
   "source": []
  }
 ],
 "metadata": {
  "kernelspec": {
   "display_name": "dmia2019",
   "language": "python",
   "name": "dmia2019"
  },
  "language_info": {
   "codemirror_mode": {
    "name": "ipython",
    "version": 3
   },
   "file_extension": ".py",
   "mimetype": "text/x-python",
   "name": "python",
   "nbconvert_exporter": "python",
   "pygments_lexer": "ipython3",
   "version": "3.6.6"
  }
 },
 "nbformat": 4,
 "nbformat_minor": 2
}
